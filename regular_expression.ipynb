{
  "nbformat": 4,
  "nbformat_minor": 0,
  "metadata": {
    "colab": {
      "provenance": [],
      "authorship_tag": "ABX9TyP/TTSUqv0mi1pGzq4Z8FSX",
      "include_colab_link": true
    },
    "kernelspec": {
      "name": "python3",
      "display_name": "Python 3"
    },
    "language_info": {
      "name": "python"
    }
  },
  "cells": [
    {
      "cell_type": "markdown",
      "metadata": {
        "id": "view-in-github",
        "colab_type": "text"
      },
      "source": [
        "<a href=\"https://colab.research.google.com/github/isaacbull/google-IT-automation/blob/main/regular_expression.ipynb\" target=\"_parent\"><img src=\"https://colab.research.google.com/assets/colab-badge.svg\" alt=\"Open In Colab\"/></a>"
      ]
    },
    {
      "cell_type": "code",
      "source": [
        "# Regular Expressions\n",
        "log = \"July 31 7:51:48 mycomputer bad_process[12345]: ERROR Perfroming package upgrade\"\n",
        "index = log.index('[') # using a character as index\n",
        "\n",
        "# Brittle way to extracing numbers by using index function\n",
        "print(log[index+1:index+6]) # counting from the chosen inde\n"
      ],
      "metadata": {
        "colab": {
          "base_uri": "https://localhost:8080/"
        },
        "id": "cFeEojWMgDmD",
        "outputId": "dea3f9cf-76c4-4fa1-9386-e461486e981f"
      },
      "execution_count": 5,
      "outputs": [
        {
          "output_type": "stream",
          "name": "stdout",
          "text": [
            "12345\n"
          ]
        }
      ]
    },
    {
      "cell_type": "code",
      "source": [
        "\n",
        "# re module allows for search function to find regular expressions inside strings\n",
        "import re\n",
        "regex = r\"\\[(\\d+)\\]\"\n",
        "result = re.search(regex, log)\n",
        "print(result[1])\n"
      ],
      "metadata": {
        "colab": {
          "base_uri": "https://localhost:8080/"
        },
        "id": "03lUKLr5hZFE",
        "outputId": "dcb6f06d-0824-41c7-ef0a-cc55628b974d"
      },
      "execution_count": 15,
      "outputs": [
        {
          "output_type": "stream",
          "name": "stdout",
          "text": [
            "12345\n"
          ]
        }
      ]
    },
    {
      "cell_type": "code",
      "source": [
        "\n",
        "# =========================================================================================\n",
        "\n",
        "# Basic Regular Expressions\n",
        "# Simple Matching in Python\n",
        "# The \"r\" at the beginning of the pattern indicates that this is a rawstring\n",
        "# Always use rawstrings for regular expressions in Python\n",
        "result = re.search(r'aza', 'plaza')\n",
        "print(result)\n"
      ],
      "metadata": {
        "colab": {
          "base_uri": "https://localhost:8080/"
        },
        "id": "n6Tp9Spzjn7m",
        "outputId": "40b3c3af-f8b1-4a03-b4f4-a3bd193c536e"
      },
      "execution_count": 16,
      "outputs": [
        {
          "output_type": "stream",
          "name": "stdout",
          "text": [
            "<re.Match object; span=(2, 5), match='aza'>\n"
          ]
        }
      ]
    },
    {
      "cell_type": "code",
      "source": [
        "#  None is a special value that Python uses that show that there's none actual value there\n",
        "result = re.search(r'aza', 'maze')\n",
        "print(result)\n"
      ],
      "metadata": {
        "colab": {
          "base_uri": "https://localhost:8080/"
        },
        "id": "lcDd5rOZkYdN",
        "outputId": "0a25a1e8-6a37-459e-c82c-0156231b025e"
      },
      "execution_count": 18,
      "outputs": [
        {
          "output_type": "stream",
          "name": "stdout",
          "text": [
            "None\n"
          ]
        }
      ]
    },
    {
      "cell_type": "code",
      "source": [
        "# The match attribute always has a value of the actual sub string that match the search pattern\n",
        "# The span attribute indicates the range where the sub string can be found in the string\n",
        "print(re.search(r\"^x\", \"xenon\"))\n",
        "print(re.search(r\"p.ng\", \"penguin\"))\n",
        "print(re.search(r\"p.ng\", \"sponge\"))\n",
        "\n",
        "# Additional options to the search function can be added as a third parameter\n",
        "# The re.IGNORECASE option returns a match that is case insensitive\n",
        "print(re.search(r\"p.ng\", \"Pangaea\", re.IGNORECASE))"
      ],
      "metadata": {
        "colab": {
          "base_uri": "https://localhost:8080/"
        },
        "id": "jxg9qBlIk6kb",
        "outputId": "f1602b98-60bb-44b8-bddc-172c2a39dbec"
      },
      "execution_count": 19,
      "outputs": [
        {
          "output_type": "stream",
          "name": "stdout",
          "text": [
            "<re.Match object; span=(0, 1), match='x'>\n",
            "<re.Match object; span=(0, 4), match='peng'>\n",
            "<re.Match object; span=(1, 5), match='pong'>\n",
            "<re.Match object; span=(0, 4), match='Pang'>\n"
          ]
        }
      ]
    },
    {
      "cell_type": "code",
      "source": [
        "print(re.search(r\"p.ng\", \"Pangaea\"))"
      ],
      "metadata": {
        "colab": {
          "base_uri": "https://localhost:8080/"
        },
        "id": "Flo40wETk_u6",
        "outputId": "12d84a35-41d7-44b5-b07d-25e3673ec7a8"
      },
      "execution_count": 20,
      "outputs": [
        {
          "output_type": "stream",
          "name": "stdout",
          "text": [
            "None\n"
          ]
        }
      ]
    },
    {
      "cell_type": "markdown",
      "source": [
        "\n",
        "- Wildcards and Character Classes\n",
        "- Character classes are written inside square brackets\n",
        "- It list the characters to match inside of the brackets\n",
        "- A range of characters can be defined using a dash"
      ],
      "metadata": {
        "id": "KCC0kgRHlY-2"
      }
    },
    {
      "cell_type": "code",
      "source": [
        "\n",
        "# -----------------------------------------------------------------------------------------\n",
        "\n",
        "# Wildcards and Character Classes\n",
        "# Character classes are written inside square brackets\n",
        "# It list the characters to match inside of the brackets\n",
        "# A range of characters can be defined using a dash\n",
        "print(re.search(r\"[a-z]way\", \"The end of the highway\"))\n",
        "print(re.search(r\"[a-z]way\", \"What a way to go\"))\n",
        "print(re.search(r\"cloud[a-zA-Z0-9]\", \"cloudy\"))\n",
        "print(re.search(r\"cloud[a-zA-Z0-9]\", \"cloud9\"))"
      ],
      "metadata": {
        "colab": {
          "base_uri": "https://localhost:8080/"
        },
        "id": "E3NekkKflS0H",
        "outputId": "0ee5efd6-3d63-4379-bb72-e98eaa6aa766"
      },
      "execution_count": 21,
      "outputs": [
        {
          "output_type": "stream",
          "name": "stdout",
          "text": [
            "<re.Match object; span=(18, 22), match='hway'>\n",
            "None\n",
            "<re.Match object; span=(0, 6), match='cloudy'>\n",
            "<re.Match object; span=(0, 6), match='cloud9'>\n"
          ]
        }
      ]
    },
    {
      "cell_type": "code",
      "source": [
        "print(re.search(r\"cloud[a-zA-Z0-9][i]\", \"cloudoieuj\"))"
      ],
      "metadata": {
        "colab": {
          "base_uri": "https://localhost:8080/"
        },
        "id": "AqEvH5nAmXVc",
        "outputId": "94c91207-9c3f-4154-d1d1-5ff90a3156a5"
      },
      "execution_count": 23,
      "outputs": [
        {
          "output_type": "stream",
          "name": "stdout",
          "text": [
            "<re.Match object; span=(0, 7), match='cloudoi'>\n"
          ]
        }
      ]
    },
    {
      "cell_type": "code",
      "source": [
        "\n",
        "\n",
        "# Use a ^, circumflex, inside the square brackets to match any characters that aren't in a group\n",
        "print(re.search(r\"[^a-zA-Z]\", \"This is a sentence with spaces.\"))\n",
        "print(re.search(r\"[^a-zA-Z ]\", \"This is a sentence with spaces.\"))\n",
        "\n",
        "# Use a |, pipe symbol to match either one expression or another\n",
        "# The search function returns the first matching string only when there are multiple matches\n",
        "print(re.search(r\"cat|dog\", \"I like cats.\"))\n",
        "print(re.search(r\"cat|dog\", \"I like dogs.\"))\n",
        "\n",
        "# Use the findall function provided by the re module to get all possible matches\n",
        "print(re.findall(r\"cat|dog\", \"I like both cats and dogs.\"))"
      ],
      "metadata": {
        "colab": {
          "base_uri": "https://localhost:8080/"
        },
        "id": "qInc3Z8Vm0aH",
        "outputId": "a5c1589a-2599-40f2-80a7-246c64d4a171"
      },
      "execution_count": 24,
      "outputs": [
        {
          "output_type": "stream",
          "name": "stdout",
          "text": [
            "<re.Match object; span=(4, 5), match=' '>\n",
            "<re.Match object; span=(30, 31), match='.'>\n",
            "<re.Match object; span=(7, 10), match='cat'>\n",
            "<re.Match object; span=(7, 10), match='dog'>\n",
            "['cat', 'dog']\n"
          ]
        }
      ]
    },
    {
      "cell_type": "code",
      "source": [
        "\n",
        "# -----------------------------------------------------------------------------------------\n",
        "\n",
        "# Repetition Qualifiers\n",
        "# Repeated matches is a common expressions that include a . followed by a *\n",
        "# * is for zero or more matches\n",
        "# It matches any character repeated as many times as possible including zero - greedy behavior\n",
        "print(re.search(r\"Py.*n\", \"Pygmalion\"))\n",
        "print(re.search(r\"Py.*n\", \"Python Programming\"))\n",
        "print(re.search(r\"Py[a-z]*n\", \"Python Programming\"))\n",
        "print(re.search(r\"Py.*n\", \"Pyn\"))\n"
      ],
      "metadata": {
        "colab": {
          "base_uri": "https://localhost:8080/"
        },
        "id": "rCaK8ta1n4mB",
        "outputId": "28a627c2-573f-431f-c2fa-db254b810d8a"
      },
      "execution_count": 25,
      "outputs": [
        {
          "output_type": "stream",
          "name": "stdout",
          "text": [
            "<re.Match object; span=(0, 9), match='Pygmalion'>\n",
            "<re.Match object; span=(0, 17), match='Python Programmin'>\n",
            "<re.Match object; span=(0, 6), match='Python'>\n",
            "<re.Match object; span=(0, 3), match='Pyn'>\n"
          ]
        }
      ]
    },
    {
      "cell_type": "code",
      "source": [
        "\n",
        "# Use a +, plus character, to match one or more occurrences of the character that comes before it\n",
        "print(re.search(r\"o+l+\", \"goldfish\"))\n",
        "print(re.search(r\"o+l+\", \"woolly\"))\n",
        "print(re.search(r\"o+l+\", \"boil\"))\n",
        "\n",
        "# Use a ?, question mark symbol, for either zero or one occurrence of the character before it\n",
        "# It is used to specified optional characters\n",
        "print(re.search(r\"p?each\", \"To each their own\"))\n",
        "print(re.search(r\"p?each\", \"I like peaches\"))\n"
      ],
      "metadata": {
        "colab": {
          "base_uri": "https://localhost:8080/"
        },
        "id": "6lR1Vj-brgHH",
        "outputId": "cffb5cf1-6363-43bc-dbcf-68ccdbfc1004"
      },
      "execution_count": 26,
      "outputs": [
        {
          "output_type": "stream",
          "name": "stdout",
          "text": [
            "<re.Match object; span=(1, 3), match='ol'>\n",
            "<re.Match object; span=(1, 5), match='ooll'>\n",
            "None\n",
            "<re.Match object; span=(3, 7), match='each'>\n",
            "<re.Match object; span=(7, 12), match='peach'>\n"
          ]
        }
      ]
    },
    {
      "cell_type": "code",
      "source": [
        "\n",
        "# -----------------------------------------------------------------------------------------\n",
        "\n",
        "# Escaping Characters\n",
        "# A pattern that includes a \\ could be escaping a special regex character or a special string character\n",
        "# Use a \\, escape character, to match one of the special characters\n",
        "print(re.search(r\".com\", \"welcome\"))\n",
        "print(re.search(r\"\\.com\", \"welcome\"))\n",
        "print(re.search(r\"\\.com\", \"mydomain.com\"))\n",
        "\n",
        "# Use \\w to match any alphanumeric character including letters, numbers, and underscores\n",
        "# Use \\d to match digits\n",
        "# Use \\s for matching whitespace characters like space, tab or new line\n",
        "# Use \\b for word boundaries\n",
        "print(re.search(r\"\\w*\", \"This is an example\"))\n",
        "print(re.search(r\"\\w*\", \"And_this_is_another\"))\n"
      ],
      "metadata": {
        "colab": {
          "base_uri": "https://localhost:8080/"
        },
        "id": "u79OfsTUzW8Y",
        "outputId": "5dcebe7e-2eb0-4b23-a013-16b25c630ce2"
      },
      "execution_count": 27,
      "outputs": [
        {
          "output_type": "stream",
          "name": "stdout",
          "text": [
            "<re.Match object; span=(2, 6), match='lcom'>\n",
            "None\n",
            "<re.Match object; span=(8, 12), match='.com'>\n",
            "<re.Match object; span=(0, 4), match='This'>\n",
            "<re.Match object; span=(0, 19), match='And_this_is_another'>\n"
          ]
        }
      ]
    },
    {
      "cell_type": "code",
      "source": [
        "# -----------------------------------------------------------------------------------------\n",
        "\n",
        "# Regular Expressions in Action\n",
        "# \"Azerbaijan\" returns \"Azerbaija\" because we did not specify the end \n",
        "print(re.search(r\"A.*a\", \"Argentina\"))\n",
        "print(re.search(r\"A.*a\", \"Azerbaijan\"))\n",
        "\n",
        "# \"Azerbaijan\" returns None \n",
        "print(re.search(r\"^A.*a$\", \"Azerbaijan\"))\n",
        "print(re.search(r\"^A.*a$\", \"Australia\"))\n",
        "\n",
        "pattern = r\"^[a-zA-Z0-9_]*$\"\n",
        "print(re.search(pattern, \"this_is_a_valid_variable_name\"))\n",
        "print(re.search(pattern, \"this isn't a valid variable name\"))\n",
        "print(re.search(pattern, \"my_variable1\"))\n",
        "print(re.search(pattern, \"2my_variable1\"))\n"
      ],
      "metadata": {
        "colab": {
          "base_uri": "https://localhost:8080/"
        },
        "id": "c5h5whNGz3Qt",
        "outputId": "c36b587b-deef-4ea7-8fe3-5220a22fe85f"
      },
      "execution_count": 28,
      "outputs": [
        {
          "output_type": "stream",
          "name": "stdout",
          "text": [
            "<re.Match object; span=(0, 9), match='Argentina'>\n",
            "<re.Match object; span=(0, 9), match='Azerbaija'>\n",
            "None\n",
            "<re.Match object; span=(0, 9), match='Australia'>\n",
            "<re.Match object; span=(0, 29), match='this_is_a_valid_variable_name'>\n",
            "None\n",
            "<re.Match object; span=(0, 12), match='my_variable1'>\n",
            "<re.Match object; span=(0, 13), match='2my_variable1'>\n"
          ]
        }
      ]
    },
    {
      "cell_type": "code",
      "source": [
        "\n",
        "# =========================================================================================\n",
        "\n",
        "# Advanced Regular Expressions\n",
        "# Capturing Groups\n",
        "# Use parentheses to capture groups which are portions of the pattern that are enclosed in\n",
        "# Below line defines two separate groups\n",
        "result = re.search(r\"^(\\w*), (\\w*)$\", \"Lovelace, Ada\")\n",
        "print(result)\n",
        "\n",
        "# The group method returns a tuple of two elements\n",
        "print(result.groups())\n",
        "\n",
        "# Use indexing to access these groups\n",
        "# The first element contains the text matched by the entire regular expression\n",
        "# Each successive element contains the data that was matched by every subsequent match group\n",
        "print(result[0])\n",
        "print(result[1])\n",
        "print(result[2])\n",
        "print(\"{} {}\".format(result[2], result[1]))"
      ],
      "metadata": {
        "colab": {
          "base_uri": "https://localhost:8080/"
        },
        "id": "W93DAx5w0Ref",
        "outputId": "0bd4cf98-36bf-4e3c-eb0e-fdb08583c92f"
      },
      "execution_count": 29,
      "outputs": [
        {
          "output_type": "stream",
          "name": "stdout",
          "text": [
            "<re.Match object; span=(0, 13), match='Lovelace, Ada'>\n",
            "('Lovelace', 'Ada')\n",
            "Lovelace, Ada\n",
            "Lovelace\n",
            "Ada\n",
            "Ada Lovelace\n"
          ]
        }
      ]
    },
    {
      "cell_type": "code",
      "execution_count": 30,
      "metadata": {
        "colab": {
          "base_uri": "https://localhost:8080/"
        },
        "id": "CN5xMwmeeTli",
        "outputId": "b0cbea89-e76b-4d09-a5db-22f188adf552"
      },
      "outputs": [
        {
          "output_type": "stream",
          "name": "stdout",
          "text": [
            "Ada Lovelace\n",
            "Dennis Ritchie\n",
            "Hopper, Grace M.\n",
            "Grace M. Hopper\n"
          ]
        }
      ],
      "source": [
        "\n",
        "\n",
        "def rearrange_name(name):\n",
        "    result = re.search(r\"^(\\w*), (\\w*)$\", name)\n",
        "    if result is None:\n",
        "        return print(name)\n",
        "    return print(\"{} {}\".format(result[2], result[1]))\n",
        "\n",
        "rearrange_name(\"Lovelace, Ada\")\n",
        "rearrange_name(\"Ritchie, Dennis\")\n",
        "rearrange_name(\"Hopper, Grace M.\")\n",
        "\n",
        "def rearrange_name_updated(name):\n",
        "    result = re.search(r\"^([\\w \\.-]*), ([\\w \\.-]*)$\", name)\n",
        "    if result is None:\n",
        "        return print(name)\n",
        "    return print(\"{} {}\".format(result[2], result[1]))\n",
        "\n",
        "rearrange_name_updated(\"Hopper, Grace M.\")\n"
      ]
    },
    {
      "cell_type": "code",
      "source": [
        "\n",
        "# -----------------------------------------------------------------------------------------\n",
        "\n",
        "# More on Repetition Qualifiers\n",
        "# Use {}, curly brackets and one or two numbers to specify a range with numeric repetition qualifiers\n",
        "print(re.search(r\"[a-zA-Z]{5}\", \"a ghost\"))\n",
        "print(re.search(r\"[a-zA-Z]{5}\", \"a scary ghost appeared\"))\n",
        "print(re.findall(r\"[a-zA-Z]{5}\", \"a scary ghost appeared\"))\n",
        "\n",
        "# Use \\b, which matches word limits at the beginning and end of the pattern, to match full words \n",
        "print(re.findall(r\"\\b[a-zA-Z]{5}\\b\", \"A scary ghost appeared\"))\n",
        "print(re.findall(r\"\\w{5,10}\", \"I really like strawberries\"))\n",
        "print(re.search(r\"s\\w{,20}\", \"I really like strawberries\"))\n",
        "\n"
      ],
      "metadata": {
        "colab": {
          "base_uri": "https://localhost:8080/"
        },
        "id": "UiqmPkXQ1nqE",
        "outputId": "7be3fe17-872a-48c8-ceaa-e8b338d76d81"
      },
      "execution_count": 31,
      "outputs": [
        {
          "output_type": "stream",
          "name": "stdout",
          "text": [
            "<re.Match object; span=(2, 7), match='ghost'>\n",
            "<re.Match object; span=(2, 7), match='scary'>\n",
            "['scary', 'ghost', 'appea']\n",
            "['scary', 'ghost']\n",
            "['really', 'strawberri']\n",
            "<re.Match object; span=(14, 26), match='strawberries'>\n"
          ]
        }
      ]
    },
    {
      "cell_type": "code",
      "source": [
        "# -----------------------------------------------------------------------------------------\n",
        "\n",
        "# Extracting a PID Using regexes in Python\n",
        "log = \"July 31 07:51:48 mycomputer bad_process[12345]: ERROR Performing package upgrade\"\n",
        "regex = r\"\\[(\\d+)]\"\n",
        "result = re.search(regex, log)\n",
        "print(result[1])\n",
        "\n",
        "result = re.search(regex, \"A completely different string that also has numbers [34567]\")\n",
        "print(result[1])\n",
        "\n"
      ],
      "metadata": {
        "colab": {
          "base_uri": "https://localhost:8080/"
        },
        "id": "xsXhxO-f19Yz",
        "outputId": "5bca1adf-c642-4985-c4a9-28a2f9261943"
      },
      "execution_count": 32,
      "outputs": [
        {
          "output_type": "stream",
          "name": "stdout",
          "text": [
            "12345\n",
            "34567\n"
          ]
        }
      ]
    },
    {
      "cell_type": "code",
      "source": [
        "# Trying to access the index 1. Therefore returs None\n",
        "# result = re.search(regex, \"99 elephants in a [cage]\")\n",
        "# print(result[1])\n",
        "\n",
        "def extract_pid(log_line):\n",
        "    regex = r\"\\[(\\d+)]\"\n",
        "    result = re.search(regex, log_line)\n",
        "    if result is None:\n",
        "        return \"\"\n",
        "    return result[1]\n",
        "\n",
        "print(extract_pid(log))\n",
        "print(extract_pid(\"99 elephants in a [cage]\"))\n",
        "\n"
      ],
      "metadata": {
        "colab": {
          "base_uri": "https://localhost:8080/"
        },
        "id": "UTPwavlG2a_Z",
        "outputId": "1aa402c9-7139-4480-d9b6-04ce0a1af6ec"
      },
      "execution_count": 33,
      "outputs": [
        {
          "output_type": "stream",
          "name": "stdout",
          "text": [
            "12345\n",
            "\n"
          ]
        }
      ]
    },
    {
      "cell_type": "code",
      "source": [
        "# -----------------------------------------------------------------------------------------\n",
        "\n",
        "# Splitting and Replacing\n",
        "# Split function from the re module works by taking any regular expression as a separator\n",
        "# Use capturing parentheses to split list to include the elements that is used to split tje values\n",
        "print(re.split(r\"[.?!]\", \"One sentence. Another one? And the last one!\"))\n",
        "print(re.split(r\"([.?!])\", \"One sentence. Another one? And the last one!\"))"
      ],
      "metadata": {
        "colab": {
          "base_uri": "https://localhost:8080/"
        },
        "id": "E384p9sp2l-m",
        "outputId": "ec0a2e58-5656-4ab9-e860-ffc8741757df"
      },
      "execution_count": 34,
      "outputs": [
        {
          "output_type": "stream",
          "name": "stdout",
          "text": [
            "['One sentence', ' Another one', ' And the last one', '']\n",
            "['One sentence', '.', ' Another one', '?', ' And the last one', '!', '']\n"
          ]
        }
      ]
    },
    {
      "cell_type": "code",
      "source": [],
      "metadata": {
        "id": "PovdATmk2yjE"
      },
      "execution_count": null,
      "outputs": []
    }
  ]
}