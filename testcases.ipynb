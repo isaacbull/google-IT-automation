{
 "cells": [
  {
   "cell_type": "markdown",
   "id": "00171c00-3406-4fe6-959a-826047ef7a7e",
   "metadata": {},
   "source": [
    "## Practice Notebook - Unit Tests and Edge Cases"
   ]
  },
  {
   "cell_type": "markdown",
   "id": "98a71a90-0cde-43e7-b782-371d292d7dc6",
   "metadata": {},
   "source": [
    "Below we have some code that makes a list of specific letters found in any string. If you run it, you can see what it does.\n",
    "\n"
   ]
  },
  {
   "cell_type": "code",
   "execution_count": 1,
   "id": "c4befff4-c6c0-42d3-b64b-4c1313b79e1a",
   "metadata": {},
   "outputs": [
    {
     "name": "stdout",
     "output_type": "stream",
     "text": [
      "['a', 'b']\n"
     ]
    },
    {
     "name": "stderr",
     "output_type": "stream",
     "text": [
      "<>:6: SyntaxWarning: assertion is always true, perhaps remove parentheses?\n",
      "<>:6: SyntaxWarning: assertion is always true, perhaps remove parentheses?\n",
      "<ipython-input-1-822df5dc89f8>:6: SyntaxWarning: assertion is always true, perhaps remove parentheses?\n",
      "  assert(type(txt) != str , \"non string input\")\n"
     ]
    }
   ],
   "source": [
    "import re \n",
    "  \n",
    "my_txt = \"An investment in knowledge pays the best interest.\"\n",
    "\n",
    "def LetterCompiler(txt):\n",
    "    assert(type(txt) != str , \"non string input\")\n",
    "    result = re.findall(r'([a-c]).', txt)\n",
    "    return result\n",
    "\n",
    "print(LetterCompiler(my_txt))"
   ]
  },
  {
   "cell_type": "markdown",
   "id": "b9193555-631c-4886-95f4-278622ae2a70",
   "metadata": {},
   "source": [
    "But can we be sure that this function will always do what we expect it to do? We need to write code to help us catch mistakes, errors and bugs. This code should automate the process of checking if the returned value of our code matches the expectations by dynamically feeding into it test cases. Since we're dynamically feeding in different strings, it would be prudent to create unit tests for our code. We can use the module unittest for this.\n"
   ]
  },
  {
   "cell_type": "code",
   "execution_count": 3,
   "id": "b65678c2-3bd7-4f54-9a8b-9384dedb6dd0",
   "metadata": {},
   "outputs": [],
   "source": [
    "import unittest\n",
    "\n",
    "class TestCompiler(unittest.TestCase):\n",
    "\n",
    "    def test_basic(self):\n",
    "        testcase = \"The best preparation for tomorrow is doing your best today.\"\n",
    "        expected = ['b', 'a', 'a', 'b', 'a']\n",
    "        self.assertEqual(LetterCompiler(testcase), expected)"
   ]
  },
  {
   "cell_type": "code",
   "execution_count": 4,
   "id": "e2bfc798-1370-495d-9b4a-d7227dd86a80",
   "metadata": {},
   "outputs": [
    {
     "name": "stderr",
     "output_type": "stream",
     "text": [
      ".\n",
      "----------------------------------------------------------------------\n",
      "Ran 1 test in 0.001s\n",
      "\n",
      "OK\n"
     ]
    },
    {
     "data": {
      "text/plain": [
       "<unittest.main.TestProgram at 0x7f9c1945c940>"
      ]
     },
     "execution_count": 4,
     "metadata": {},
     "output_type": "execute_result"
    }
   ],
   "source": [
    "unittest.main(argv = ['first-arg-is-ignored'], exit = False)\n"
   ]
  },
  {
   "cell_type": "markdown",
   "id": "4b4f4d8c-c370-4c4c-b1b6-2466dd926f1b",
   "metadata": {},
   "source": [
    "Edge cases are inputs to code that produce unexpected results, and are found at the extreme ends of the ranges of input we imagine programs will typically work with"
   ]
  },
  {
   "cell_type": "code",
   "execution_count": 5,
   "id": "1fa648c1-b986-4146-b284-fab90e0262cb",
   "metadata": {},
   "outputs": [
    {
     "name": "stderr",
     "output_type": "stream",
     "text": [
      "....\n",
      "----------------------------------------------------------------------\n",
      "Ran 4 tests in 0.005s\n",
      "\n",
      "OK\n"
     ]
    },
    {
     "data": {
      "text/plain": [
       "<unittest.main.TestProgram at 0x7f9c194b6a00>"
      ]
     },
     "execution_count": 5,
     "metadata": {},
     "output_type": "execute_result"
    }
   ],
   "source": [
    "class TestCompiler2(unittest.TestCase):\n",
    "    \n",
    "    def test_two(self):\n",
    "        testcase = \"A b c d e f g h i j k l m n o q r s t u v w x y z\"\n",
    "        expected = ['b', 'c']\n",
    "        self.assertEqual(LetterCompiler(testcase), expected)\n",
    "    \n",
    "    def test_array_input(self):\n",
    "        testcase = [\"abcdedf\"]\n",
    "        self.assertRaises(TypeError, LetterCompiler, testcase)\n",
    "        \n",
    "    def test_num_input(self):\n",
    "        testcase = -2\n",
    "        self.assertRaises(TypeError, LetterCompiler, testcase)\n",
    "\n",
    "\n",
    "unittest.main(argv = ['first-arg-is-ignored'], exit = False)"
   ]
  },
  {
   "cell_type": "markdown",
   "id": "b1029e9b-940d-47ec-b3aa-3c475da07e85",
   "metadata": {},
   "source": [
    "think about edge cases "
   ]
  },
  {
   "cell_type": "code",
   "execution_count": null,
   "id": "c62d57df-98f5-4d78-85a4-af0fff4612fd",
   "metadata": {},
   "outputs": [],
   "source": []
  }
 ],
 "metadata": {
  "kernelspec": {
   "display_name": "Python 3",
   "language": "python",
   "name": "python3"
  },
  "language_info": {
   "codemirror_mode": {
    "name": "ipython",
    "version": 3
   },
   "file_extension": ".py",
   "mimetype": "text/x-python",
   "name": "python",
   "nbconvert_exporter": "python",
   "pygments_lexer": "ipython3",
   "version": "3.8.8"
  }
 },
 "nbformat": 4,
 "nbformat_minor": 5
}
