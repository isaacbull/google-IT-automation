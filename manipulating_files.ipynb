{
  "nbformat": 4,
  "nbformat_minor": 0,
  "metadata": {
    "colab": {
      "provenance": [],
      "authorship_tag": "ABX9TyMzhRk812gACM+Fz9bX3y9h",
      "include_colab_link": true
    },
    "kernelspec": {
      "name": "python3",
      "display_name": "Python 3"
    },
    "language_info": {
      "name": "python"
    }
  },
  "cells": [
    {
      "cell_type": "markdown",
      "metadata": {
        "id": "view-in-github",
        "colab_type": "text"
      },
      "source": [
        "<a href=\"https://colab.research.google.com/github/isaacbull/google-IT-automation/blob/main/manipulating_files.ipynb\" target=\"_parent\"><img src=\"https://colab.research.google.com/assets/colab-badge.svg\" alt=\"Open In Colab\"/></a>"
      ]
    },
    {
      "cell_type": "markdown",
      "source": [
        "This is a lab to show how files can be read and manipulated"
      ],
      "metadata": {
        "id": "Zw23lm4oWPY0"
      }
    },
    {
      "cell_type": "code",
      "execution_count": 1,
      "metadata": {
        "id": "8CtNasuVO-sB"
      },
      "outputs": [],
      "source": [
        "guests = open(\"guests.txt\", \"w\")\n",
        "initial_guests = [\"Bob\", \"Andrea\", \"Manuel\", \"Polly\", \"Khalid\"]\n",
        "\n",
        "for i in initial_guests:\n",
        "    guests.write(i + \"\\n\")\n",
        "    \n",
        "guests.close()"
      ]
    },
    {
      "cell_type": "markdown",
      "source": [
        "Let's say we have a text file containing current visitors at a restaurant. We'll call it, guests.txt. Run the following code to create the file. The file will automatically populate with each initial guest's first name on its own line"
      ],
      "metadata": {
        "id": "c0FsuXvrPIMg"
      }
    },
    {
      "cell_type": "code",
      "source": [
        "guests = open(\"guests.txt\", \"w\")\n",
        "initial_guests = [\"Bob\", \"Judie\", \"Mark\", \"Pauline\", \"Karen\"]\n",
        "\n",
        "for i in initial_guests:\n",
        "      guests.write(i + \"\\n\")\n",
        "guests.close()"
      ],
      "metadata": {
        "id": "7JHMM7GdPPPE"
      },
      "execution_count": 7,
      "outputs": []
    },
    {
      "cell_type": "code",
      "source": [
        "# now lets print what is in the file\n",
        "with open(\"guests.txt\") as guests:\n",
        "    for line in guests:\n",
        "        print(line)"
      ],
      "metadata": {
        "colab": {
          "base_uri": "https://localhost:8080/"
        },
        "id": "LsVr2qexPzUu",
        "outputId": "8dc66f70-d7fa-4fdb-9a8f-524cbf0db128"
      },
      "execution_count": 8,
      "outputs": [
        {
          "output_type": "stream",
          "name": "stdout",
          "text": [
            "Bob\n",
            "\n",
            "Judie\n",
            "\n",
            "Mark\n",
            "\n",
            "Pauline\n",
            "\n",
            "Karen\n",
            "\n"
          ]
        }
      ]
    },
    {
      "cell_type": "markdown",
      "source": [
        "Now suppose we want to update our file as guests check in and out. Fill in the missing code in the following cell to add guests to the guests.txt file as they check in."
      ],
      "metadata": {
        "id": "VywMktLuQNdM"
      }
    },
    {
      "cell_type": "code",
      "source": [
        "new_guests = [\"linda\", \"Alice\", \"Obi\"]\n",
        "with open(\"guests.txt\", \"a\") as guests:\n",
        "    for i in new_guests:\n",
        "        guests.write(i + \"\\n\")"
      ],
      "metadata": {
        "id": "_keCgvsqQNKV"
      },
      "execution_count": 9,
      "outputs": []
    },
    {
      "cell_type": "code",
      "source": [
        "with open(\"guests.txt\") as guests:\n",
        "    for line in guests:\n",
        "        print(line)"
      ],
      "metadata": {
        "colab": {
          "base_uri": "https://localhost:8080/"
        },
        "id": "6YT9Yn_OQ61J",
        "outputId": "79cdb999-37be-4c53-d4e9-58feee0f7be3"
      },
      "execution_count": 10,
      "outputs": [
        {
          "output_type": "stream",
          "name": "stdout",
          "text": [
            "Bob\n",
            "\n",
            "Judie\n",
            "\n",
            "Mark\n",
            "\n",
            "Pauline\n",
            "\n",
            "Karen\n",
            "\n",
            "linda\n",
            "\n",
            "Alice\n",
            "\n",
            "Obi\n",
            "\n"
          ]
        }
      ]
    },
    {
      "cell_type": "markdown",
      "source": [
        "Now let's remove the guests that have checked out already. There are several ways to do this, however, the method we will choose for this exercise is outlined as follows:\n",
        "\n",
        "Open the file in \"read\" mode.\n",
        "Iterate over each line in the file and put each guest's name into a Python list.\n",
        "Open the file once again in \"write\" mode.\n",
        "Add each guest's name in the Python list to the file one by one.\n",
        "\n",
        "Ready? Fill in the missing code in the following cell to remove the guests that have checked out already.\n"
      ],
      "metadata": {
        "id": "vQGWYb9uRuVd"
      }
    },
    {
      "cell_type": "code",
      "source": [
        "checked_out=[\"Obi\", \"Karen\"]\n",
        "temp_list=[]\n",
        "\n",
        "with open(\"guests.txt\", 'r') as guests:\n",
        "    for g in guests:\n",
        "        temp_list.append(g.strip())\n",
        "\n",
        "print(temp_list)\n",
        "\n",
        "with open(\"guests.txt\", 'w') as guests:\n",
        "    for name in temp_list:\n",
        "        if name not in checked_out:\n",
        "            guests.write(name + \"\\n\")"
      ],
      "metadata": {
        "colab": {
          "base_uri": "https://localhost:8080/"
        },
        "id": "PwEk5i0ORyqa",
        "outputId": "cc903f9c-7714-4f09-bdfd-7b52c3ed4750"
      },
      "execution_count": 11,
      "outputs": [
        {
          "output_type": "stream",
          "name": "stdout",
          "text": [
            "['Bob', 'Judie', 'Mark', 'Pauline', 'Karen', 'linda', 'Alice', 'Obi']\n"
          ]
        }
      ]
    },
    {
      "cell_type": "code",
      "source": [
        "with open (\"guests.txt\") as guests:\n",
        "    for line in guests:\n",
        "          print(line)"
      ],
      "metadata": {
        "colab": {
          "base_uri": "https://localhost:8080/"
        },
        "id": "vCDQpza0Toib",
        "outputId": "1704ff12-12f6-492a-d58a-3c37b1de5aaa"
      },
      "execution_count": 17,
      "outputs": [
        {
          "output_type": "stream",
          "name": "stdout",
          "text": [
            "Bob\n",
            "\n",
            "Judie\n",
            "\n",
            "Mark\n",
            "\n",
            "Pauline\n",
            "\n",
            "linda\n",
            "\n",
            "Alice\n",
            "\n"
          ]
        }
      ]
    },
    {
      "cell_type": "markdown",
      "source": [
        "Now let's check whether Bob and Andrea are still checked in. How could we do this? We'll just read through each line in the file to see if their name is in there. Run the following code to check whether Bob and Andrea are still checked in."
      ],
      "metadata": {
        "id": "RkjXYEMuURfl"
      }
    },
    {
      "cell_type": "code",
      "source": [
        "guests_to_check = ['Bob', 'Linda']\n",
        "checked_in = []\n",
        "\n",
        "with open(\"guests.txt\", \"r\") as guests:\n",
        "    for g in guests:\n",
        "        checked_in.append(g.strip())\n",
        "    for check in guests_to_check:\n",
        "        if check in checked_in:\n",
        "            print(\"{} is checked in\".format(check))\n",
        "        else:\n",
        "            print(\"{} is not checked in\".format(check))\n",
        "      "
      ],
      "metadata": {
        "colab": {
          "base_uri": "https://localhost:8080/"
        },
        "id": "rdbX6xADUaZu",
        "outputId": "3b4881a0-5f44-40bf-8400-9028c3f21d0a"
      },
      "execution_count": 18,
      "outputs": [
        {
          "output_type": "stream",
          "name": "stdout",
          "text": [
            "Bob is checked in\n",
            "Linda is not checked in\n"
          ]
        }
      ]
    }
  ]
}