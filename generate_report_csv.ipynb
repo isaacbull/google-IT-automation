{
  "nbformat": 4,
  "nbformat_minor": 0,
  "metadata": {
    "colab": {
      "provenance": [],
      "toc_visible": true,
      "authorship_tag": "ABX9TyMHAbafBMKu7wE0W+84PhN5",
      "include_colab_link": true
    },
    "kernelspec": {
      "name": "python3",
      "display_name": "Python 3"
    },
    "language_info": {
      "name": "python"
    }
  },
  "cells": [
    {
      "cell_type": "markdown",
      "metadata": {
        "id": "view-in-github",
        "colab_type": "text"
      },
      "source": [
        "<a href=\"https://colab.research.google.com/github/isaacbull/google-IT-automation/blob/main/generate_report_csv.ipynb\" target=\"_parent\"><img src=\"https://colab.research.google.com/assets/colab-badge.svg\" alt=\"Open In Colab\"/></a>"
      ]
    },
    {
      "cell_type": "markdown",
      "source": [
        "Reading and Writing CSV files\n",
        "\n",
        "What is CSV ?\n",
        "CSV or comma separated values is a very common data format used to store data as segment of text separated by commas. In the Python standard library, you'll find classes and modules for working with many of these data formats, including CSV and HTML.\n",
        "\n",
        "Module for manipulating CSV files is : csv\n",
        "\n"
      ],
      "metadata": {
        "id": "gRY-M-3kZe0L"
      }
    },
    {
      "cell_type": "code",
      "source": [
        "#Creating instance of csv class\n",
        "\n",
        "\n",
        "import csv \n",
        "\n",
        "f=open('new_csv.txt', 'w')\n",
        "csv_f=csv.reader(f)"
      ],
      "metadata": {
        "id": "9KQQHRdPZ9e-"
      },
      "execution_count": 2,
      "outputs": []
    },
    {
      "cell_type": "code",
      "source": [
        "#iterating through the csv file \n",
        "csv_f=csv.reader(open('new_csv.txt'))\n",
        "for row in csv_f:\n",
        "    print(row)"
      ],
      "metadata": {
        "id": "0BM66rwgaqPH"
      },
      "execution_count": 4,
      "outputs": []
    },
    {
      "cell_type": "code",
      "source": [
        "csv_f=csv.reader(open('new_csv.txt'))\n",
        "ro4 4o2 in dwf"
      ],
      "metadata": {
        "id": "GnGDjwvMaPYx"
      },
      "execution_count": null,
      "outputs": []
    },
    {
      "cell_type": "code",
      "execution_count": 8,
      "metadata": {
        "colab": {
          "base_uri": "https://localhost:8080/"
        },
        "id": "bM4yzLceXxG9",
        "outputId": "e1d24d73-f2be-4cd6-b359-8b1964e27845"
      },
      "outputs": [
        {
          "output_type": "stream",
          "name": "stdout",
          "text": [
            "[{'Full Name': 'Audrey Miller', 'Username': 'audrey', 'Department': 'Development'}, {'Full Name': 'Arden Garcia', 'Username': 'ardeng', 'Department': 'Sales'}, {'Full Name': 'Bailey Thomas', 'Username': 'baileyt', 'Department': 'Human Resources'}, {'Full Name': 'Blake Sousa', 'Username': 'sousa', 'Department': 'IT infrastructure'}, {'Full Name': 'Cameron Nguyen', 'Username': 'nguyen', 'Department': 'Marketing'}, {'Full Name': 'Charlie Grey', 'Username': 'greyc', 'Department': 'Development'}, {'Full Name': 'Chris Black', 'Username': 'chrisb', 'Department': 'User Experience Research'}, {'Full Name': 'Courtney Silva', 'Username': 'silva', 'Department': 'IT infrastructure'}, {'Full Name': 'Darcy Johnsonn', 'Username': 'darcy', 'Department': 'IT infrastructure'}, {'Full Name': 'Elliot Lamb', 'Username': 'elliotl', 'Department': 'Development'}, {'Full Name': 'Emery Halls', 'Username': 'halls', 'Department': 'Sales'}, {'Full Name': 'Flynn McMillan', 'Username': 'flynn', 'Department': 'Marketing'}, {'Full Name': 'Harley Klose', 'Username': 'harley', 'Department': 'Human Resources'}, {'Full Name': 'Jean May Coy', 'Username': 'jeanm', 'Department': 'Vendor operations'}, {'Full Name': 'Kay Stevens', 'Username': 'kstev', 'Department': 'Sales'}, {'Full Name': 'Lio Nelson', 'Username': 'lion', 'Department': 'User Experience Research'}, {'Full Name': 'Logan Tillas', 'Username': 'tillas', 'Department': 'Vendor operations'}, {'Full Name': 'Micah Lopes', 'Username': 'micah', 'Department': 'Development'}, {'Full Name': 'Sol Mansi', 'Username': 'solm', 'Department': 'IT infrastructure'}]\n",
            "{'Marketing': 2, 'User Experience Research': 2, 'Vendor operations': 2, 'Sales': 3, 'IT infrastructure': 4, 'Development': 4, 'Human Resources': 2}\n"
          ]
        }
      ],
      "source": [
        "import csv\n",
        "import os\n",
        "\n",
        "\n",
        "def read_employees(csv_file_location):\n",
        "    # Open the file\n",
        "    with open(csv_file_location,\"r\") as f:\n",
        "        csv.register_dialect('empDialect', skipinitialspace=True, strict=True)\n",
        "        # Read the rows of the file into a dictionary\n",
        "        employee_file = csv.DictReader(f, dialect='empDialect')\n",
        "        employee_list = []\n",
        "        for data in employee_file:\n",
        "            employee_list.append(data)\n",
        "\n",
        "    return employee_list\n",
        "\n",
        "\n",
        "def process_data(employee_list):\n",
        "    department_list = []\n",
        "    for employee_data in employee_list:\n",
        "       department_list.append(employee_data['Department'])\n",
        "\n",
        "    department_data = {}\n",
        "    for department_name in set(department_list):\n",
        "        department_data[department_name] = department_list.count(department_name)\n",
        "    \n",
        "    return department_data\n",
        "\n",
        "\n",
        "def write_report(dictionary, report_file):\n",
        "    with open(report_file, \"w+\") as f:\n",
        "        for k in sorted(dictionary):\n",
        "            f.write(str(k)+':'+str(dictionary[k])+'\\n')\n",
        "        f.close()\n",
        "\n",
        "employee_list = read_employees('employees.csv')\n",
        "print(employee_list)\n",
        "\n",
        "dictionary = process_data(employee_list)\n",
        "print(dictionary)\n",
        "\n",
        "write_report(dictionary,'report.txt')"
      ]
    },
    {
      "cell_type": "code",
      "source": [],
      "metadata": {
        "id": "a2JSWVR7cNDb"
      },
      "execution_count": null,
      "outputs": []
    }
  ]
}